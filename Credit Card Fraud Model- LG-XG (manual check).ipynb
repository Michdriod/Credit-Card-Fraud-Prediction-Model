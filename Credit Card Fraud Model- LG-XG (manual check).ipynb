{
 "cells": [
  {
   "cell_type": "code",
   "execution_count": null,
   "metadata": {},
   "outputs": [],
   "source": [
    "import joblib\n",
    "import numpy as np\n",
    "import pandas as pd\n",
    "\n",
    "# Load saved components\n",
    "loaded_model = joblib.load(\"fraud_detection_model_lg.pkl\")\n",
    "loaded_threshold = np.load(\"best_threshold_lg.npy\")\n",
    "loaded_scaler = joblib.load(\"scaler_lg.pkl\")\n",
    "cost_sensitive_model = joblib.load(\"cost_sensitive_xgb_model.pkl\")\n",
    "best_model = joblib.load(\"best_cost_sensitive_xgb.pkl\")"
   ]
  },
  {
   "cell_type": "code",
   "execution_count": null,
   "metadata": {},
   "outputs": [],
   "source": [
    "X_manual_sampled = pd.read_csv('manual_test_sample_rawd.csv')\n",
    "y_manual_sampled = pd.read_csv('manual_test_sample_labelsd.csv')\n",
    "\n",
    "\n",
    "X_manual_sampleds = pd.read_csv('manual_test_sample_rawds.csv')\n",
    "y_manual_sampleds = pd.read_csv('manual_test_sample_labelsds.csv')\n",
    "\n",
    "X_manual_sampledss = pd.read_csv('manual_test_sample_rawdss.csv')\n",
    "y_manual_sampledss = pd.read_csv('manual_test_sample_labelsdss.csv')\n",
    "\n",
    "X_manual_sampledssd = pd.read_csv('manual_test_sample_rawdssd.csv')\n",
    "y_manual_sampledssd = pd.read_csv('manual_test_sample_labelsdssd.csv')\n",
    "\n",
    "X_manual_samplessdd = pd.read_csv(\"manual_test_sample_rawdssdd.csv\")\n",
    "y_manual_samplessdd = pd.read_csv(\"manual_test_sample_labelsdssdd.csv\")"
   ]
  },
  {
   "cell_type": "code",
   "execution_count": null,
   "metadata": {},
   "outputs": [],
   "source": [
    "X_manual_sampledss"
   ]
  },
  {
   "cell_type": "code",
   "execution_count": null,
   "metadata": {},
   "outputs": [],
   "source": [
    "y_manual_sampledss"
   ]
  },
  {
   "cell_type": "code",
   "execution_count": null,
   "metadata": {},
   "outputs": [],
   "source": [
    "# Apply the same scaling to 'Amount' and 'Time' (if using new data)\n",
    "# X_manual_sampled[['Amount', 'Time']] = loaded_scaler.transform(X_manual_sampled[['Amount', 'Time']])\n",
    "\n",
    "# Apply the same scaling to 'Amount' and 'Time' (if using new data)\n",
    "# X_manual_sampleds[['Amount', 'Time']] = loaded_scaler.transform(X_manual_sampleds[['Amount', 'Time']])\n",
    "\n",
    "\n",
    "# Apply the same scaling to 'Amount' and 'Time' (if using new data)\n",
    "# X_manual_sampledss[['Amount', 'Time']] = loaded_scaler.transform(X_manual_sampledss[['Amount', 'Time']])\n",
    "\n",
    "# Apply the same scaling to 'Amount' and 'Time' (if using new data)\n",
    "X_manual_sampledssd[['Amount', 'Time']] = loaded_scaler.transform(X_manual_sampledssd[['Amount', 'Time']])\n"
   ]
  },
  {
   "cell_type": "code",
   "execution_count": null,
   "metadata": {},
   "outputs": [],
   "source": [
    "# Get fraud probabilities from the loaded model\n",
    "# y_probs = loaded_model.predict_proba(X_manual_samplessdd)[:, 1]\n",
    "# y_probss = cost_sensitive_model.predict_proba(X_manual_samplessdd)[:, 1]\n",
    "y_probsss = best_model.predict_proba(X_manual_samplessdd)[:, 1]\n",
    "\n",
    "# # Apply the best threshold for classification\n",
    "# predicted_labels = (y_probs >= loaded_threshold).astype(int)\n",
    "\n",
    "new_threshold = 0.8922086764891026 # 0.31641  # Example: Lowering threshold\n",
    "predicted_labelss = (y_probsss >= new_threshold).astype(int)\n",
    "\n",
    "# Create a DataFrame for manual validation using actual class labels from y_manual_sampled\n",
    "manual_validation_df = y_manual_samplessdd  .copy()  # Copy the actual labels\n",
    "manual_validation_df.rename(columns={'Class': 'Actual_Class'}, inplace=True)\n",
    "\n",
    "# Add predictions and fraud probabilities\n",
    "manual_validation_df['Predicted_Class'] = predicted_labelss  # Model predictions\n",
    "manual_validation_df['Fraud_Probability'] = y_probsss  # Model confidence scores\n",
    "\n",
    "# Select only relevant columns for display\n",
    "manual_validation_df = manual_validation_df[['Actual_Class', 'Predicted_Class', 'Fraud_Probability']]\n"
   ]
  },
  {
   "cell_type": "code",
   "execution_count": null,
   "metadata": {},
   "outputs": [],
   "source": [
    "import pandas as pd\n",
    "\n",
    "# Ensure all rows & columns are visible\n",
    "pd.set_option('display.max_rows', None)  # Show all rows\n",
    "pd.set_option('display.max_columns', None)  # Show all columns\n",
    "pd.set_option('display.expand_frame_repr', False)  # Avoid wrapping\n",
    "\n",
    "# Display first few rows for inspection\n",
    "print(\"\\n✅ Manual Validation Sample:\")\n",
    "print(manual_validation_df.head(100))  # Adjust number as needed\n"
   ]
  },
  {
   "cell_type": "code",
   "execution_count": null,
   "metadata": {},
   "outputs": [],
   "source": [
    "# Evaluate the predictions\n",
    "from sklearn.metrics import classification_report, precision_score, recall_score, f1_score, average_precision_score\n",
    "\n",
    "precision = precision_score(y_manual_samplessdd, predicted_labelss)\n",
    "recall = recall_score(y_manual_samplessdd, predicted_labelss)\n",
    "f1 = f1_score(y_manual_samplessdd, predicted_labelss)\n",
    "auc_pr = average_precision_score(y_manual_samplessdd, y_probsss)\n",
    "\n",
    "print(f'Precision: {precision:.4f}')\n",
    "print(f'Recall: {recall:.4f}')\n",
    "print(f'F1-Score: {f1:.4f}')\n",
    "print(f'AUC-PR: {auc_pr:.4f}')\n",
    "\n",
    "# Print classification report\n",
    "print(classification_report(y_manual_samplessdd, predicted_labelss))"
   ]
  },
  {
   "cell_type": "code",
   "execution_count": null,
   "metadata": {},
   "outputs": [],
   "source": [
    "import numpy as np\n",
    "from sklearn.metrics import precision_recall_curve\n",
    "\n",
    "# Get fraud probabilities from model\n",
    "y_probs = loaded_model.predict_proba(X_manual_samplessdd)[:, 1]\n",
    "\n",
    "# Compute precision-recall curve\n",
    "precisions, recalls, thresholds = precision_recall_curve(y_manual_samplessdd, y_probs)\n",
    "\n",
    "# Find the best threshold (balance between precision & recall)\n",
    "f1_scores = 2 * (precisions * recalls) / (precisions + recalls)\n",
    "best_threshold = thresholds[np.argmax(f1_scores)]\n",
    "\n",
    "print(f\"Optimal Threshold: {best_threshold:.5f}\")\n"
   ]
  },
  {
   "cell_type": "code",
   "execution_count": null,
   "metadata": {},
   "outputs": [],
   "source": [
    "from xgboost import XGBClassifier\n",
    "\n",
    "# Adjust scale_pos_weight to focus on fraud detection\n",
    "cost_sensitive_model = XGBClassifier(scale_pos_weight=50, random_state=42)  \n",
    "cost_sensitive_model.fit(X_train, y_train)\n",
    "\n",
    "# Evaluate the new model\n",
    "y_probs_cs = cost_sensitive_model.predict_proba(X_manual_sampled)[:, 1]\n",
    "y_pred_cs = (y_probs_cs >= best_threshold).astype(int)\n",
    "\n",
    "print(classification_report(y_manual_sampled, y_pred_cs))"
   ]
  },
  {
   "cell_type": "markdown",
   "metadata": {},
   "source": [
    "Another Level Check"
   ]
  },
  {
   "cell_type": "code",
   "execution_count": null,
   "metadata": {},
   "outputs": [],
   "source": [
    "import pandas as pd\n",
    "\n",
    "# Define review thresholds\n",
    "review_lower = 0.3  # Lower bound for review\n",
    "review_upper = 0.7  # Upper bound for review\n",
    "\n",
    "# Apply thresholding logic\n",
    "manual_validation_df['Action'] = \"Approve\"  # Default action\n",
    "\n",
    "# If fraud probability is high, block transaction\n",
    "manual_validation_df.loc[manual_validation_df['Fraud_Probability'] >= 0.9, 'Action'] = \"Block\"\n",
    "\n",
    "# If fraud probability is in the review range, send for review\n",
    "manual_validation_df.loc[\n",
    "    (manual_validation_df['Fraud_Probability'] >= review_lower) & \n",
    "    (manual_validation_df['Fraud_Probability'] <= review_upper),\n",
    "    'Action'\n",
    "] = \"Review\"\n",
    "\n",
    "# Display flagged transactions\n",
    "print(\"\\n✅ Transactions with Actions:\")\n",
    "print(manual_validation_df[['Actual_Class', 'Predicted_Class', 'Fraud_Probability', 'Action']])\n"
   ]
  }
 ],
 "metadata": {
  "kernelspec": {
   "display_name": "base",
   "language": "python",
   "name": "python3"
  },
  "language_info": {
   "codemirror_mode": {
    "name": "ipython",
    "version": 3
   },
   "file_extension": ".py",
   "mimetype": "text/x-python",
   "name": "python",
   "nbconvert_exporter": "python",
   "pygments_lexer": "ipython3",
   "version": "3.12.7"
  }
 },
 "nbformat": 4,
 "nbformat_minor": 2
}
