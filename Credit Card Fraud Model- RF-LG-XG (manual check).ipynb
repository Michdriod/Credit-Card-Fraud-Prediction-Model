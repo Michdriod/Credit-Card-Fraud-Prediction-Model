{
 "cells": [
  {
   "cell_type": "markdown",
   "metadata": {},
   "source": [
    "Load Trained Models"
   ]
  },
  {
   "cell_type": "code",
   "execution_count": null,
   "metadata": {},
   "outputs": [],
   "source": [
    "import joblib\n",
    "\n",
    "# Load the trained models\n",
    "xgb_model = joblib.load('xgb_model.pkl')\n",
    "rf_model = joblib.load('rf_model.pkl')\n",
    "log_model = joblib.load('log_model.pkl')\n",
    "best_xgb = joblib.load('best_xgb_model.pkl')\n",
    "best_xgbs = joblib.load('best_xgbs_model.pkl')\n",
    "\n",
    "# Load the scaler\n",
    "scaler = joblib.load('scaler.pkl')\n"
   ]
  },
  {
   "cell_type": "markdown",
   "metadata": {},
   "source": [
    "Load the Sample Data\n"
   ]
  },
  {
   "cell_type": "code",
   "execution_count": null,
   "metadata": {},
   "outputs": [],
   "source": [
    "import pandas as pd\n",
    "\n",
    "# Load the sample data\n",
    "X_manual_sampled = pd.read_csv('manual_test_sample_rawd.csv')\n",
    "y_manual_sampled = pd.read_csv('manual_test_sample_labelsd.csv')\n",
    "\n",
    "\n",
    "X_manual_sampleds = pd.read_csv('manual_test_sample_rawds.csv')\n",
    "y_manual_sampleds = pd.read_csv('manual_test_sample_labelsds.csv')\n",
    "\n",
    "X_manual_sampledss = pd.read_csv('manual_test_sample_rawdss.csv')\n",
    "y_manual_sampledss = pd.read_csv('manual_test_sample_labelsdss.csv')\n",
    "\n",
    "X_manual_sampledssd = pd.read_csv('manual_test_sample_rawdssd.csv')\n",
    "y_manual_sampledssd = pd.read_csv('manual_test_sample_labelsdssd.csv')"
   ]
  },
  {
   "cell_type": "code",
   "execution_count": null,
   "metadata": {},
   "outputs": [],
   "source": [
    "X_manual_sampledss"
   ]
  },
  {
   "cell_type": "code",
   "execution_count": null,
   "metadata": {},
   "outputs": [],
   "source": [
    "y_manual_sampledss"
   ]
  },
  {
   "cell_type": "code",
   "execution_count": null,
   "metadata": {},
   "outputs": [],
   "source": [
    "# Display the sampled data\n",
    "print(\"Sampled Features:\")\n",
    "print(X_manual_sampledss)\n",
    "print(\"\\nSampled Labels:\")\n",
    "print(y_manual_sampledss)"
   ]
  },
  {
   "cell_type": "markdown",
   "metadata": {},
   "source": [
    "Scale the Sample Data"
   ]
  },
  {
   "cell_type": "code",
   "execution_count": null,
   "metadata": {},
   "outputs": [],
   "source": [
    "# Scale the sample data\n",
    "X_manual_sample_scaled = scaler.transform(X_manual_sample)\n",
    "X_manual_sample_scaledd = scaler.transform(X_manual_sampled) # ----10\n",
    "X_manual_sample_scaledds = scaler.transform(X_manual_sampleds) # ----20\n",
    "X_manual_sample_scaleddss = scaler.transform(X_manual_sampledss)# ----40\n",
    "X_manual_sample_scaleddssd = scaler.transform(X_manual_sampledssd)# ----60\n",
    "\n"
   ]
  },
  {
   "cell_type": "markdown",
   "metadata": {},
   "source": [
    "the best_threshold"
   ]
  },
  {
   "cell_type": "code",
   "execution_count": null,
   "metadata": {},
   "outputs": [],
   "source": [
    "# Load the best_threshold\n",
    "with open('best_threshold', 'r') as f:\n",
    "    best_threshold = json.load(f)['best_threshold']"
   ]
  },
  {
   "cell_type": "markdown",
   "metadata": {},
   "source": [
    "Manual Validation Code"
   ]
  },
  {
   "cell_type": "code",
   "execution_count": null,
   "metadata": {},
   "outputs": [],
   "source": [
    "# Predict using the best XGBoost model\n",
    "\n",
    "y_probs = rf_model.predict_proba(X_manual_sample_scaled)[:, 1]  #------first\n",
    "y_probss = best_xgb.predict_proba(X_manual_sample_scaleddssd)[:, 1]    #------third\n",
    "y_probsss = best_xgbs.predict_proba(X_manual_sample_scaleddssd)[:, 1] #-----second\n",
    "\n",
    "\n",
    "# y_pred = (y_probss >= best_threshold).astype(int) #-----second\n",
    "\n",
    "Optimal_Threshold = 0.0386 #-----first\n",
    "y_predss = (y_probss >= Optimal_Threshold).astype(int)\n",
    "\n",
    "# new_threshold = 0.45  # Experiment with different values\n",
    "# y_preds = (y_probss >= new_threshold).astype(int)\n",
    "\n",
    "\n",
    "# Create a DataFrame to compare actual and predicted labels\n",
    "results = pd.DataFrame({\n",
    "    'Actual Label': y_manual_sampledssd['Class'],  # Assuming 'Class' is the column name for the actual labels\n",
    "    'Predicted Label': y_predss,\n",
    "    'Predicted Probability': y_probss\n",
    "})\n",
    "\n",
    "# Display the results\n",
    "print(results)\n",
    "\n",
    "# Evaluate the predictions\n",
    "from sklearn.metrics import classification_report, precision_score, recall_score, f1_score, average_precision_score\n",
    "\n",
    "precision = precision_score(y_manual_sampledssd, y_predss)\n",
    "recall = recall_score(y_manual_sampledssd, y_predss)\n",
    "f1 = f1_score(y_manual_sampledssd, y_predss)\n",
    "auc_pr = average_precision_score(y_manual_sampledssd, y_probss)\n",
    "\n",
    "print(f'Precision: {precision:.4f}')\n",
    "print(f'Recall: {recall:.4f}')\n",
    "print(f'F1-Score: {f1:.4f}')\n",
    "print(f'AUC-PR: {auc_pr:.4f}')\n",
    "\n",
    "# Print classification report\n",
    "print(classification_report(y_manual_sampledssd, y_predss))"
   ]
  },
  {
   "cell_type": "code",
   "execution_count": null,
   "metadata": {},
   "outputs": [],
   "source": [
    "best_threshold "
   ]
  },
  {
   "cell_type": "code",
   "execution_count": null,
   "metadata": {},
   "outputs": [],
   "source": [
    "\n",
    "# from sklearn.metrics import precision_recall_curve\n",
    "# import numpy as np\n",
    "\n",
    "# precision, recall, thresholds = precision_recall_curve(y_manual_sample, y_probs)\n",
    "\n",
    "# # Find the threshold that maximizes F1-score\n",
    "# f1_scores = 2 * (precision * recall) / (precision + recall)\n",
    "# optimal_threshold = thresholds[np.argmax(f1_scores)]\n",
    "\n",
    "# print(f'Optimal_Threshold: {optimal_threshold:.4f}')\n",
    "\n",
    "\n",
    "\n",
    "from sklearn.metrics import precision_recall_curve\n",
    "import numpy as np\n",
    "\n",
    "precision, recall, thresholds = precision_recall_curve(y_manual_sampleds, y_probsss)\n",
    "\n",
    "# Find the threshold that maximizes F1-score\n",
    "f1_scores = 2 * (precision * recall) / (precision + recall)\n",
    "optimal_threshold = thresholds[np.argmax(f1_scores)]\n",
    "\n",
    "print(f'Optimal_Threshold: {optimal_threshold:.4f}')\n",
    "\n"
   ]
  }
 ],
 "metadata": {
  "kernelspec": {
   "display_name": "base",
   "language": "python",
   "name": "python3"
  },
  "language_info": {
   "codemirror_mode": {
    "name": "ipython",
    "version": 3
   },
   "file_extension": ".py",
   "mimetype": "text/x-python",
   "name": "python",
   "nbconvert_exporter": "python",
   "pygments_lexer": "ipython3",
   "version": "3.12.7"
  }
 },
 "nbformat": 4,
 "nbformat_minor": 2
}
